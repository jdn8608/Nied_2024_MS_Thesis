{
 "cells": [
  {
   "cell_type": "code",
   "execution_count": 1,
   "id": "840c0a81",
   "metadata": {},
   "outputs": [
    {
     "name": "stderr",
     "output_type": "stream",
     "text": [
      "/data/keeling/a/jdnied2/miniconda3/envs/Mapping/lib/python3.12/site-packages/pyproj/__init__.py:89: UserWarning: pyproj unable to set database path.\n",
      "  _pyproj_global_context_initialize()\n"
     ]
    }
   ],
   "source": [
    "from IPython.display import clear_output\n",
    "import matplotlib\n",
    "import matplotlib.pyplot as plt\n",
    "import matplotlib.patches as mpatches\n",
    "\n",
    "from mpl_toolkits.axes_grid1 import make_axes_locatable\n",
    "%matplotlib notebook \n",
    "import numpy as np\n",
    "from mpl_toolkits.basemap import Basemap\n",
    "import cartopy.crs as ccrs\n",
    "import glob\n",
    "import h5py as h5\n",
    "import pandas as pd\n",
    "import tqdm"
   ]
  },
  {
   "cell_type": "code",
   "execution_count": 2,
   "id": "cf2bdb1e",
   "metadata": {},
   "outputs": [],
   "source": [
    "font = {\n",
    "        'size'   : 28\n",
    "}\n",
    "matplotlib.rc('font', **font)"
   ]
  },
  {
   "cell_type": "markdown",
   "id": "8b567a57",
   "metadata": {},
   "source": [
    "# Sample Lat/Lon"
   ]
  },
  {
   "cell_type": "code",
   "execution_count": 3,
   "id": "d849a3b4",
   "metadata": {},
   "outputs": [],
   "source": [
    "files = glob.glob('/data/keeling/a/jdnied2/a/MODIS_ML/data/output/*')"
   ]
  },
  {
   "cell_type": "code",
   "execution_count": 4,
   "id": "eb8497e5",
   "metadata": {},
   "outputs": [
    {
     "data": {
      "text/plain": [
       "1070"
      ]
     },
     "execution_count": 4,
     "metadata": {},
     "output_type": "execute_result"
    }
   ],
   "source": [
    "len(files)"
   ]
  },
  {
   "cell_type": "code",
   "execution_count": 5,
   "id": "27f5d6b1",
   "metadata": {},
   "outputs": [],
   "source": [
    "def format_bands_to_use(bands_array):\n",
    "    return [f'Band_{b}.0' for b in bands_array]"
   ]
  },
  {
   "cell_type": "code",
   "execution_count": 6,
   "id": "9383d164",
   "metadata": {},
   "outputs": [],
   "source": [
    "def get_number_slices(files):\n",
    "    retr_size = 0\n",
    "    for line in tqdm.tqdm(files[:]):\n",
    "        file = line\n",
    "        #         key = l_split[1]\n",
    "\n",
    "        f1 = h5.File(file,'r')\n",
    "        retr_size += len(f1.keys())\n",
    "    return retr_size"
   ]
  },
  {
   "cell_type": "code",
   "execution_count": 7,
   "id": "bdc7fb3a",
   "metadata": {},
   "outputs": [],
   "source": [
    "def get_random_modis_lat_lon(files, retr_size):\n",
    "    #bands = format_bands_to_use(bands_to_use)\n",
    "    bands = []\n",
    "    bands.append('Longitude')\n",
    "    bands.append('Latitude')\n",
    "    \n",
    "    rad_images = np.zeros((retr_size,len(bands),64,64),dtype=np.float32)\n",
    "    data_index = 0\n",
    "\n",
    "    for line in tqdm.tqdm(files[:]):\n",
    "        file = line\n",
    "#         key = l_split[1]\n",
    "\n",
    "        f1 = h5.File(file,'r')\n",
    "        for k in f1.keys():\n",
    "            group = f1[k]\n",
    "            labels = np.array(list(group['FeatureLabels'])).astype('U13')\n",
    "\n",
    "            bdan_indis = []\n",
    "            for b in bands:\n",
    "                bdan_indis.append(np.where(labels==b)[0][0])\n",
    "\n",
    "            rad_images[data_index] = np.array(group['ImageFeatures'])[bdan_indis]\n",
    "\n",
    "\n",
    "            data_index+=1\n",
    "        f1.close()\n",
    "\n",
    "    rad_images_reshaped = np.swapaxes(np.swapaxes(rad_images,2,1),2,3)\n",
    "    \n",
    "    return rad_images_reshaped\n",
    "\n"
   ]
  },
  {
   "cell_type": "code",
   "execution_count": 8,
   "id": "0069c05e",
   "metadata": {},
   "outputs": [],
   "source": [
    "retr_files = np.random.choice(files, size=300, replace=False)"
   ]
  },
  {
   "cell_type": "code",
   "execution_count": 9,
   "id": "9c042d57",
   "metadata": {},
   "outputs": [
    {
     "name": "stderr",
     "output_type": "stream",
     "text": [
      "100%|█████████████████████████████████████████████████████████████████████████████████████████████████████████████████| 300/300 [00:59<00:00,  5.02it/s]\n"
     ]
    },
    {
     "data": {
      "text/plain": [
       "24877"
      ]
     },
     "execution_count": 9,
     "metadata": {},
     "output_type": "execute_result"
    }
   ],
   "source": [
    "retr_size = get_number_slices(retr_files)\n",
    "retr_size"
   ]
  },
  {
   "cell_type": "code",
   "execution_count": null,
   "id": "1c07dcbd",
   "metadata": {},
   "outputs": [
    {
     "name": "stderr",
     "output_type": "stream",
     "text": [
      " 88%|███████████████████████████████████████████████████████████████████████████████████████████████████              | 263/300 [02:46<00:31,  1.19it/s]"
     ]
    }
   ],
   "source": [
    "lat_lon_sample = get_random_modis_lat_lon(retr_files, retr_size)"
   ]
  },
  {
   "cell_type": "markdown",
   "id": "0fe67872",
   "metadata": {},
   "source": [
    "# Map Lat/Lon"
   ]
  },
  {
   "cell_type": "code",
   "execution_count": null,
   "id": "2e7ad4cf",
   "metadata": {},
   "outputs": [],
   "source": [
    "lon_min = np.min(lat_lon_sample[:,:,:,0])\n",
    "lon_max = np.max(lat_lon_sample[:,:,:,0])\n",
    "lat_min = np.min(lat_lon_sample[:,:,:,1])\n",
    "lat_max = np.max(lat_lon_sample[:,:,:,1])"
   ]
  },
  {
   "cell_type": "code",
   "execution_count": null,
   "id": "1e8a6c74",
   "metadata": {},
   "outputs": [],
   "source": [
    "print(f\"Longitude Bounds: {lon_max} {lon_min}\")\n",
    "print(f\"Latitude  Bounds: {lat_max} {lat_min}\")"
   ]
  },
  {
   "cell_type": "code",
   "execution_count": null,
   "id": "0355728b",
   "metadata": {
    "scrolled": false
   },
   "outputs": [],
   "source": [
    "fig, ax = plt.subplots(figsize=(10, 10))\n",
    "\n",
    "# m = Basemap(projection='cyl', llcrnrlat=-90, urcrnrlat=90,\n",
    "#             llcrnrlon=-180, urcrnrlon=180, resolution='c')\n",
    "m = Basemap(projection='ortho', \n",
    "              lat_0=28, lon_0=-50)\n",
    "m.bluemarble(scale=0.5)\n",
    "\n",
    "def plot_curved_box_edge(lats, lons):\n",
    "    x, y = m(lons, lats)\n",
    "    m.plot(x, y, color='r', linestyle='dashed', linewidth=3.0)\n",
    "\n",
    "# Generate points for the edges of the box\n",
    "num_points = 100\n",
    "lats_bottom = np.linspace(lat_min, lat_min, num_points)\n",
    "lons_bottom = np.linspace(lon_min, lon_max, num_points)\n",
    "\n",
    "lats_top = np.linspace(lat_max, lat_max, num_points)\n",
    "lons_top = np.linspace(lon_min, lon_max, num_points)\n",
    "\n",
    "lats_left = np.linspace(lat_min, lat_max, num_points)\n",
    "lons_left = np.linspace(lon_min, lon_min, num_points)\n",
    "\n",
    "lats_right = np.linspace(lat_min, lat_max, num_points)\n",
    "lons_right = np.linspace(lon_max, lon_max, num_points)\n",
    "\n",
    "# Plot the edges of the box\n",
    "plot_curved_box_edge(lats_bottom, lons_bottom)\n",
    "plot_curved_box_edge(lats_top, lons_top)\n",
    "plot_curved_box_edge(lats_left, lons_left)\n",
    "plot_curved_box_edge(lats_right, lons_right)\n",
    "\n",
    "\n",
    "\n",
    "# Add a title and show the plot\n",
    "# plt.show()\n",
    "plt.title('Terra MODIS & MISR\\nTraining/Testing Datasets')\n",
    "red_patch = mpatches.Patch(color='red', label='Dataset Retrieval')\n",
    "plt.legend(handles=[red_patch], loc=4)\n",
    "plt.tight_layout()\n",
    "plt.savefig('/data/keeling/a/jdnied2/c/MS_THESIS/Support_Figs/Training+Testing_Datasets_Earth.png')\n",
    "\n"
   ]
  }
 ],
 "metadata": {
  "kernelspec": {
   "display_name": "Mapping",
   "language": "python",
   "name": "mapping"
  },
  "language_info": {
   "codemirror_mode": {
    "name": "ipython",
    "version": 3
   },
   "file_extension": ".py",
   "mimetype": "text/x-python",
   "name": "python",
   "nbconvert_exporter": "python",
   "pygments_lexer": "ipython3",
   "version": "3.12.3"
  }
 },
 "nbformat": 4,
 "nbformat_minor": 5
}
